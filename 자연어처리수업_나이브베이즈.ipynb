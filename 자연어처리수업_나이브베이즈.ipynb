{
  "nbformat": 4,
  "nbformat_minor": 0,
  "metadata": {
    "colab": {
      "provenance": [],
      "authorship_tag": "ABX9TyNngnLy6DejFxrVAMtLncHH",
      "include_colab_link": true
    },
    "kernelspec": {
      "name": "python3",
      "display_name": "Python 3"
    },
    "language_info": {
      "name": "python"
    }
  },
  "cells": [
    {
      "cell_type": "markdown",
      "metadata": {
        "id": "view-in-github",
        "colab_type": "text"
      },
      "source": [
        "<a href=\"https://colab.research.google.com/github/hwangsaeyeon/AAI-Web-Development/blob/main/%EC%9E%90%EC%97%B0%EC%96%B4%EC%B2%98%EB%A6%AC%EC%88%98%EC%97%85_%EB%82%98%EC%9D%B4%EB%B8%8C%EB%B2%A0%EC%9D%B4%EC%A6%88.ipynb\" target=\"_parent\"><img src=\"https://colab.research.google.com/assets/colab-badge.svg\" alt=\"Open In Colab\"/></a>"
      ]
    },
    {
      "cell_type": "code",
      "source": [
        "# prior probability\n",
        "def get_prior (reviews):\n",
        "    comedy_c = 0\n",
        "    action_c = 0\n",
        "    for r,g in reviews:\n",
        "        if g == 'comedy': comedy_c += 1\n",
        "        else: action_c += 1\n",
        "\n",
        "    prior_comedy = comedy_c/len(reviews)\n",
        "    prior_action = action_c/len(reviews)\n",
        "    return prior_action, prior_comedy"
      ],
      "metadata": {
        "id": "PahjnD_N1e6a"
      },
      "execution_count": null,
      "outputs": []
    },
    {
      "cell_type": "code",
      "source": [
        "def get_words_category(reviews):\n",
        "  wordListA = dict()\n",
        "  wordListC = dict()\n",
        "  for r,g in reviews:\n",
        "    if g =='action': \n",
        "      for i in range(len(r.split(','))):\n",
        "        word = r.split(',')[i].lower()\n",
        "        if word not in wordListA.keys() : \n",
        "          wordListA[word] = 0\n",
        "        else:\n",
        "          wordListA[word] += 1\n",
        "    else:\n",
        "      for i in range(len(r.split(','))):\n",
        "        word = r.split(',')[i].lower()\n",
        "        if word not in wordListC.keys() : \n",
        "          wordListC[word] = 0\n",
        "        else:\n",
        "          wordListC[word] += 1\n",
        "  return wordListA, wordListC\n"
      ],
      "metadata": {
        "id": "GoY3joKb1Ywt"
      },
      "execution_count": null,
      "outputs": []
    },
    {
      "cell_type": "code",
      "source": [
        "import numpy as np\n",
        "def predict(review, priorA, priorC, wordListA, wordListC): \n",
        "  totalA = sum(wordListA.values())\n",
        "  totalC = sum(wordListC.values())\n",
        "\n",
        "  A = []\n",
        "  C = []\n",
        "  for r in range(len(review.split(','))):\n",
        "    word = review.split(',')[r]\n",
        "    if word in wordListA.keys(): \n",
        "      A.append(wordListA[word] / totalA) \n",
        "    elif word not in wordListA.keys():\n",
        "      A.append(0)\n",
        "    if word in wordListC.keys():\n",
        "      C.append(wordListC[word] / totalC)\n",
        "    elif word not in wordListC.keys():\n",
        "      C.append(0)\n",
        "\n",
        "  posA = np.sum(priorA * np.array(A))\n",
        "  posC = np.sum(priorC * np.array(C))\n",
        "  if posA > posC : \n",
        "    return 'Action'\n",
        "  else: \n",
        "    return 'Comedy'"
      ],
      "metadata": {
        "id": "mzm6u6vf66TA"
      },
      "execution_count": null,
      "outputs": []
    },
    {
      "cell_type": "code",
      "source": [
        "def predictSmoothing(review, priorA, priorC, wordListA, wordListC):\n",
        "  totalA = sum(wordListA.values())\n",
        "  totalC = sum(wordListC.values())\n",
        "  A = []\n",
        "  C = []\n",
        "  for r in range(len(review.split(','))):\n",
        "    word = review.split(',')[r]\n",
        "    if word in wordListA.keys(): \n",
        "      A.append(wordListA[word]+1 / totalA) \n",
        "    elif word not in wordListA.keys():\n",
        "      A.append(1/totalA)\n",
        "    if word in wordListC.keys():\n",
        "      C.append(wordListC[word]+1 / totalC)\n",
        "    elif word not in wordListC.keys():\n",
        "      C.append(1/totalC)\n",
        "\n",
        "  posA = np.sum(priorA * np.array(A))\n",
        "  posC = np.sum(priorC * np.array(C))\n",
        "  if posA > posC : \n",
        "    return 'Action'\n",
        "  else: \n",
        "    return 'Comedy'"
      ],
      "metadata": {
        "id": "cuJkLUctDQql"
      },
      "execution_count": null,
      "outputs": []
    },
    {
      "cell_type": "code",
      "execution_count": null,
      "metadata": {
        "colab": {
          "base_uri": "https://localhost:8080/"
        },
        "id": "4gxnjxn7zhfZ",
        "outputId": "798c791e-9641-48e7-ebba-394ece87810c"
      },
      "outputs": [
        {
          "output_type": "stream",
          "name": "stdout",
          "text": [
            "fast,furious,shoot,lovebelongs to Action\n",
            "fast,furious,shoot,love belongs to Action\n",
            "fast,fun,fun,love,fun belongs to Comedy\n",
            "fun,fun belongs to Comedy\n"
          ]
        }
      ],
      "source": [
        "reviews = [\n",
        "    ('fun,couple,love,love', 'comedy'),\n",
        "    ('fast,furious,shoot', 'action'),\n",
        "    ('Couple,fly,fast,fun,fun', 'comedy'),\n",
        "    ('Furious,shoot,shoot,fun', 'action'),\n",
        "    ('Fly,fast,shoot,love', 'action')\n",
        "]\n",
        "review1 = 'fast,furious,shoot,love'\n",
        "review2 = 'fast,fun,fun,love,fun'\n",
        "review3 = 'fun,fun'\n",
        "\n",
        "\n",
        "priorA, priorC = get_prior(reviews)\n",
        "wordListA, wordListC = get_words_category(reviews)\n",
        "\n",
        "print( review1 + 'belongs to '+ predict(review1, priorA, priorC, wordListA, wordListC))\n",
        "print( review1 + ' belongs to '+ predictSmoothing(review1, priorA, priorC, wordListA, wordListC))\n",
        "print( review2 + ' belongs to '+ predict(review2, priorA, priorC, wordListA, wordListC))\n",
        "print( review3 + ' belongs to '+ predict(review3, priorA, priorC, wordListA, wordListC))\n",
        "\n",
        "\n",
        "\n",
        "\n"
      ]
    }
  ]
}